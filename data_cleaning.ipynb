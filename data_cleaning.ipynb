{
 "cells": [
  {
   "cell_type": "markdown",
   "metadata": {},
   "source": [
    "# IMPORT LIBARIES"
   ]
  },
  {
   "cell_type": "code",
   "execution_count": null,
   "metadata": {},
   "outputs": [],
   "source": [
    "import pandas as pd\n",
    "import matplotlib.pyplot as plt\n",
    "import seaborn as sns\n",
    "\n",
    "df = pd.read_csv(\"SampleSuperstore.csv\")\n"
   ]
  },
  {
   "cell_type": "markdown",
   "metadata": {},
   "source": [
    "## GET INFO ABOUT THE DATASET"
   ]
  },
  {
   "cell_type": "code",
   "execution_count": null,
   "metadata": {},
   "outputs": [],
   "source": [
    "df.info()\n",
    "df.describe()\n",
    "print(df.columns)  # Lists all column names\n",
    "df.dtypes"
   ]
  },
  {
   "cell_type": "markdown",
   "metadata": {},
   "source": [
    "# CHANGE THE DATA TYPE OF COLUMNS"
   ]
  },
  {
   "cell_type": "code",
   "execution_count": null,
   "metadata": {},
   "outputs": [],
   "source": [
    "df[\"Order Date\"] = pd.to_datetime(df[\"Order Date\"], format=\"%d/%m/%Y\", errors='coerce')\n",
    "df[\"Ship Date\"] = pd.to_datetime(df[\"Ship Date\"], format=\"%d/%m/%Y\", errors='coerce')\n",
    "\n",
    "# check the data types again\n",
    "print(df.dtypes)\n"
   ]
  },
  {
   "cell_type": "markdown",
   "metadata": {},
   "source": [
    "# CHECK MISSING AND DUPLICATE VALUES"
   ]
  },
  {
   "cell_type": "code",
   "execution_count": null,
   "metadata": {},
   "outputs": [],
   "source": [
    "df.isnull().sum()\n",
    "df.duplicated().sum()"
   ]
  },
  {
   "cell_type": "code",
   "execution_count": null,
   "metadata": {},
   "outputs": [],
   "source": [
    "pd.to_datetime(df['Order Date'], format='%d/%m/%Y', errors='coerce').isnull().any()\n",
    "#   .isnull().any()   :-  checks if there are any null values(NaT values) . If there are no null values, it returns False, and if there are any, it returns True.\n",
    "#   errors = \"coerce\" :-   If any value cannot be converted, it will be replaced with NaT (Not a Time) "
   ]
  },
  {
   "cell_type": "markdown",
   "metadata": {},
   "source": [
    "# missing postal code"
   ]
  },
  {
   "cell_type": "code",
   "execution_count": null,
   "metadata": {},
   "outputs": [],
   "source": [
    "missing_postal_codes = df[df[\"Postal Code\"].isna()]\n",
    "print(missing_postal_codes)"
   ]
  },
  {
   "cell_type": "markdown",
   "metadata": {},
   "source": [
    "### Since all the missing postal code is from burlington vermont we will replace it with 0"
   ]
  },
  {
   "cell_type": "code",
   "execution_count": null,
   "metadata": {},
   "outputs": [],
   "source": [
    "df.loc[(df[\"City\"] == \"Burlington\") & (df[\"State\"] == \"Vermont\") & df[\"Postal Code\"].isna(), \"Postal Code\"] = 0\n",
    "df[\"Postal Code\"] = df[\"Postal Code\"].astype(int)"
   ]
  },
  {
   "cell_type": "markdown",
   "metadata": {},
   "source": [
    "## final check and cleaning"
   ]
  },
  {
   "cell_type": "code",
   "execution_count": null,
   "metadata": {},
   "outputs": [],
   "source": [
    "# ensures each customer have unique customer id \n",
    "\n",
    "duplicates = df.groupby(\"Customer ID\")[\"Customer Name\"].nunique()\n",
    "print(duplicates[duplicates > 1])\n",
    "\n",
    "print(df[df[\"Sales\"] < 0])   # Unusual negative sales?\n",
    "\n",
    "df.info()\n",
    "\n",
    "df.to_csv(\"SampleSuperstore.csv\", index=False)"
   ]
  },
  {
   "cell_type": "markdown",
   "metadata": {},
   "source": [
    "# -------------------------- VISUALIZATION ---------------------------"
   ]
  },
  {
   "cell_type": "code",
   "execution_count": null,
   "metadata": {},
   "outputs": [],
   "source": [
    "# Sales by Category and Sub-Category\n",
    "category_sales = df.groupby(\"Category\")[\"Sales\"].sum().sort_values(ascending=False)\n",
    "subcategory_sales = df.groupby(\"Sub-Category\")[\"Sales\"].sum().sort_values(ascending=False)\n",
    "\n",
    "plt.figure(figsize=(10, 5))\n",
    "sns.barplot(x=category_sales.index, y=category_sales.values, palette=\"viridis\")\n",
    "plt.title(\"Total Sales by Category\")\n",
    "plt.xlabel(\"Category\")\n",
    "plt.ylabel(\"Total Sales\")\n",
    "plt.grid(axis=\"y\")\n",
    "plt.show()\n",
    "print(category_sales)\n",
    "\n",
    "\n",
    "plt.figure(figsize=(12, 6))\n",
    "sns.barplot(x=subcategory_sales.index, y=subcategory_sales.values, palette=\"coolwarm\")\n",
    "plt.title(\"Total Sales by Sub-Category\")\n",
    "plt.xlabel(\"Sub-Category\")\n",
    "plt.ylabel(\"Total Sales\")\n",
    "plt.xticks(rotation=45)\n",
    "plt.grid(axis=\"y\")\n",
    "plt.show()"
   ]
  },
  {
   "cell_type": "code",
   "execution_count": null,
   "metadata": {},
   "outputs": [],
   "source": [
    "region_sales = df.groupby(\"Region\")[\"Sales\"].sum().sort_values(ascending=False)\n",
    "state_sales = df.groupby(\"State\")[\"Sales\"].sum().sort_values(ascending=False).head(10)\n",
    "\n",
    "plt.figure(figsize=(10, 5))\n",
    "sns.barplot(x=region_sales.index, y=region_sales.values, palette=\"pastel\")\n",
    "plt.title(\"Total Sales by Region\")\n",
    "plt.xlabel(\"Region\")\n",
    "plt.ylabel(\"Total Sales\")\n",
    "plt.grid(axis=\"y\")\n",
    "plt.show()\n",
    "\n",
    "plt.figure(figsize=(12, 6))\n",
    "sns.barplot(x=state_sales.index, y=state_sales.values, palette=\"magma\")\n",
    "plt.title(\"Top 10 States by Sales\")\n",
    "plt.xlabel(\"State\")\n",
    "plt.ylabel(\"Total Sales\")\n",
    "plt.xticks(rotation=45)\n",
    "plt.grid(axis=\"y\")\n",
    "plt.show()"
   ]
  },
  {
   "cell_type": "code",
   "execution_count": null,
   "metadata": {},
   "outputs": [],
   "source": [
    "df[\"Shipping Duration\"] = (df[\"Ship Date\"] - df[\"Order Date\"]).dt.days\n",
    "shipping_mode_duration = df.groupby(\"Ship Mode\")[\"Shipping Duration\"].mean().sort_values()\n",
    "\n",
    "plt.figure(figsize=(10, 5))\n",
    "sns.barplot(x=shipping_mode_duration.index, y=shipping_mode_duration.values, palette=\"Blues_r\")\n",
    "plt.title(\"Average Shipping Duration by Ship Mode\")\n",
    "plt.xlabel(\"Ship Mode\")\n",
    "plt.ylabel(\"Average Shipping Time (Days)\")\n",
    "plt.grid(axis=\"y\")\n",
    "plt.show()\n",
    "\n"
   ]
  },
  {
   "cell_type": "code",
   "execution_count": null,
   "metadata": {},
   "outputs": [],
   "source": [
    "# Top Customers\n",
    "top_customers = df.groupby(\"Customer Name\")[\"Sales\"].sum().sort_values(ascending=False).head(10)\n",
    "plt.figure(figsize=(12, 6))\n",
    "sns.barplot(x=top_customers.values, y=top_customers.index, palette=\"viridis\")\n",
    "plt.title(\"Top 10 Customers by Total Sales\")\n",
    "plt.xlabel(\"Total Sales\")\n",
    "plt.ylabel(\"Customer Name\")\n",
    "plt.grid(axis=\"x\")\n",
    "plt.show()"
   ]
  },
  {
   "cell_type": "code",
   "execution_count": null,
   "metadata": {},
   "outputs": [],
   "source": [
    "# Sales by Customer Segment\n",
    "segment_sales = df.groupby(\"Segment\")[\"Sales\"].sum().sort_values(ascending=False)\n",
    "plt.figure(figsize=(8, 5))\n",
    "sns.barplot(x=segment_sales.index, y=segment_sales.values, palette=\"coolwarm\")\n",
    "plt.title(\"Total Sales by Customer Segment\")\n",
    "plt.xlabel(\"Customer Segment\")\n",
    "plt.ylabel(\"Total Sales\")\n",
    "plt.grid(axis=\"y\")\n",
    "plt.show()"
   ]
  },
  {
   "cell_type": "code",
   "execution_count": null,
   "metadata": {},
   "outputs": [],
   "source": [
    "# Repeat Customer Analysis\n",
    "customer_order_count = df.groupby(\"Customer Name\").size().sort_values(ascending=False)\n",
    "repeat_customers = customer_order_count[customer_order_count > 1]\n",
    "plt.figure(figsize=(12, 6))\n",
    "sns.histplot(repeat_customers, bins=30, kde=True, color=\"purple\")\n",
    "plt.title(\"Distribution of Repeat Customer Orders\")\n",
    "plt.xlabel(\"Number of Orders\")\n",
    "plt.ylabel(\"Number of Customers\")\n",
    "plt.grid(axis=\"y\")\n",
    "plt.show()"
   ]
  },
  {
   "cell_type": "code",
   "execution_count": null,
   "metadata": {},
   "outputs": [],
   "source": [
    "# Sales Trend Over Time\n",
    "monthly_sales = df.groupby(df[\"Order Date\"].dt.to_period(\"M\"))[\"Sales\"].sum()\n",
    "plt.figure(figsize=(12, 6))\n",
    "monthly_sales.plot(marker=\"o\", linestyle=\"-\", color=\"b\")\n",
    "plt.title(\"Sales Trend Over Time\")\n",
    "plt.xlabel(\"Year-Month\")\n",
    "plt.ylabel(\"Total Sales\")\n",
    "plt.xticks(rotation=45)\n",
    "plt.grid(True)\n",
    "plt.show()"
   ]
  },
  {
   "cell_type": "code",
   "execution_count": null,
   "metadata": {},
   "outputs": [],
   "source": [
    "year = int(input(\"Enter the year: \"))  \n",
    "\n",
    "if year < 2015 or year > 2018:  \n",
    "    print('No record is found')\n",
    "\n",
    "else:\n",
    "    df_year = df[df[\"Order Date\"].dt.year == year]\n",
    "\n",
    "    monthly_sales = df_year.groupby(df_year[\"Order Date\"].dt.month)[\"Sales\"].sum()\n",
    "\n",
    "    # Ensure all months are represented\n",
    "    monthly_sales = monthly_sales.reindex(range(1, 13), fill_value=0)\n",
    "\n",
    "    # Map numeric months to names\n",
    "    month_names = [\"Jan\", \"Feb\", \"Mar\", \"Apr\", \"May\", \"Jun\", \"Jul\", \"Aug\", \"Sep\", \"Oct\", \"Nov\", \"Dec\"]\n",
    "    monthly_sales.index = month_names\n",
    "\n",
    "    # Plot\n",
    "    plt.figure(figsize=(12, 6))\n",
    "    monthly_sales.plot(marker=\"o\", linestyle=\"-\", color=\"b\")\n",
    "    plt.title(f\"Monthly Sales for {year}\")\n",
    "    plt.xlabel(\"Month\")\n",
    "    plt.ylabel(\"Total Sales\")\n",
    "    plt.xticks(rotation=45)\n",
    "    plt.grid(True)\n",
    "    plt.show()\n",
    "\n",
    "    print(monthly_sales.to_frame())\n"
   ]
  },
  {
   "cell_type": "code",
   "execution_count": null,
   "metadata": {},
   "outputs": [],
   "source": []
  }
 ],
 "metadata": {
  "kernelspec": {
   "display_name": ".venv",
   "language": "python",
   "name": "python3"
  },
  "language_info": {
   "codemirror_mode": {
    "name": "ipython",
    "version": 3
   },
   "file_extension": ".py",
   "mimetype": "text/x-python",
   "name": "python",
   "nbconvert_exporter": "python",
   "pygments_lexer": "ipython3",
   "version": "3.12.2"
  }
 },
 "nbformat": 4,
 "nbformat_minor": 2
}
